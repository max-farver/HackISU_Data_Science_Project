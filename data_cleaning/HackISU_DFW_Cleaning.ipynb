{
 "cells": [
  {
   "cell_type": "code",
   "execution_count": 1,
   "metadata": {},
   "outputs": [
    {
     "data": {
      "text/html": [
       "<div>\n",
       "<style scoped>\n",
       "    .dataframe tbody tr th:only-of-type {\n",
       "        vertical-align: middle;\n",
       "    }\n",
       "\n",
       "    .dataframe tbody tr th {\n",
       "        vertical-align: top;\n",
       "    }\n",
       "\n",
       "    .dataframe thead th {\n",
       "        text-align: right;\n",
       "    }\n",
       "</style>\n",
       "<table border=\"1\" class=\"dataframe\">\n",
       "  <thead>\n",
       "    <tr style=\"text-align: right;\">\n",
       "      <th></th>\n",
       "      <th>Year</th>\n",
       "      <th>Semester</th>\n",
       "      <th>College</th>\n",
       "      <th>Department</th>\n",
       "      <th>Course</th>\n",
       "      <th>Title</th>\n",
       "      <th>Total Grades</th>\n",
       "      <th>D, F, W Grades</th>\n",
       "      <th>% DFW</th>\n",
       "    </tr>\n",
       "  </thead>\n",
       "  <tbody>\n",
       "    <tr>\n",
       "      <th>0</th>\n",
       "      <td>2016</td>\n",
       "      <td>Fall</td>\n",
       "      <td>CALS</td>\n",
       "      <td>A B E</td>\n",
       "      <td>102X</td>\n",
       "      <td>LEARNING COMMUNITIE</td>\n",
       "      <td>74</td>\n",
       "      <td>2</td>\n",
       "      <td>3</td>\n",
       "    </tr>\n",
       "    <tr>\n",
       "      <th>1</th>\n",
       "      <td>2017</td>\n",
       "      <td>Fall</td>\n",
       "      <td>CALS</td>\n",
       "      <td>A B E</td>\n",
       "      <td>102X</td>\n",
       "      <td>LEARNING COMMUNITIE</td>\n",
       "      <td>79</td>\n",
       "      <td>4</td>\n",
       "      <td>5</td>\n",
       "    </tr>\n",
       "    <tr>\n",
       "      <th>2</th>\n",
       "      <td>2015</td>\n",
       "      <td>Spring</td>\n",
       "      <td>CALS</td>\n",
       "      <td>A B E</td>\n",
       "      <td>110</td>\n",
       "      <td>EXPERNC AG&amp;BIO ENGR</td>\n",
       "      <td>96</td>\n",
       "      <td>2</td>\n",
       "      <td>2</td>\n",
       "    </tr>\n",
       "    <tr>\n",
       "      <th>3</th>\n",
       "      <td>2016</td>\n",
       "      <td>Spring</td>\n",
       "      <td>CALS</td>\n",
       "      <td>A B E</td>\n",
       "      <td>110</td>\n",
       "      <td>EXPERNC AG&amp;BIO ENGR</td>\n",
       "      <td>130</td>\n",
       "      <td>0</td>\n",
       "      <td>0</td>\n",
       "    </tr>\n",
       "    <tr>\n",
       "      <th>4</th>\n",
       "      <td>2017</td>\n",
       "      <td>Spring</td>\n",
       "      <td>CALS</td>\n",
       "      <td>A B E</td>\n",
       "      <td>110</td>\n",
       "      <td>EXPERNC AG&amp;BIO ENGR</td>\n",
       "      <td>101</td>\n",
       "      <td>2</td>\n",
       "      <td>2</td>\n",
       "    </tr>\n",
       "  </tbody>\n",
       "</table>\n",
       "</div>"
      ],
      "text/plain": [
       "   Year Semester College Department Course                Title  Total Grades  \\\n",
       "0  2016     Fall    CALS      A B E   102X  LEARNING COMMUNITIE            74   \n",
       "1  2017     Fall    CALS      A B E   102X  LEARNING COMMUNITIE            79   \n",
       "2  2015   Spring    CALS      A B E    110  EXPERNC AG&BIO ENGR            96   \n",
       "3  2016   Spring    CALS      A B E    110  EXPERNC AG&BIO ENGR           130   \n",
       "4  2017   Spring    CALS      A B E    110  EXPERNC AG&BIO ENGR           101   \n",
       "\n",
       "   D, F, W Grades  % DFW  \n",
       "0               2      3  \n",
       "1               4      5  \n",
       "2               2      2  \n",
       "3               0      0  \n",
       "4               2      2  "
      ]
     },
     "execution_count": 1,
     "metadata": {},
     "output_type": "execute_result"
    }
   ],
   "source": [
    "import numpy as np\n",
    "import pandas as pd\n",
    "import matplotlib.pyplot as plt\n",
    "\n",
    "df = pd.read_csv(\"DFW_List-quick_clean.csv\")\n",
    "df = df.drop(columns=['Unnamed: 0'])\n",
    "df.head()"
   ]
  },
  {
   "cell_type": "code",
   "execution_count": 2,
   "metadata": {},
   "outputs": [
    {
     "data": {
      "text/plain": [
       "<pandas.core.groupby.groupby.DataFrameGroupBy object at 0x00000206B280A978>"
      ]
     },
     "execution_count": 2,
     "metadata": {},
     "output_type": "execute_result"
    }
   ],
   "source": [
    "df.groupby(['Department','Course'])"
   ]
  },
  {
   "cell_type": "code",
   "execution_count": 3,
   "metadata": {},
   "outputs": [],
   "source": [
    "df.to_csv('DFW_fully_cleaned.csv', index=False)"
   ]
  }
 ],
 "metadata": {
  "kernelspec": {
   "display_name": "Python 3",
   "language": "python",
   "name": "python3"
  },
  "language_info": {
   "codemirror_mode": {
    "name": "ipython",
    "version": 3
   },
   "file_extension": ".py",
   "mimetype": "text/x-python",
   "name": "python",
   "nbconvert_exporter": "python",
   "pygments_lexer": "ipython3",
   "version": "3.7.0"
  }
 },
 "nbformat": 4,
 "nbformat_minor": 2
}
